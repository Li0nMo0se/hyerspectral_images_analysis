{
 "cells": [
  {
   "cell_type": "markdown",
   "metadata": {},
   "source": [
    "# Lab 1: Pansharpening\n",
    " **ISAT, EPITA**\n",
    " \n",
    " - **Write your name here**\n",
    " - **Write your name here**"
   ]
  },
  {
   "cell_type": "markdown",
   "metadata": {},
   "source": [
    "## Information on the lab session\n",
    "\n",
    "### Introduction\n",
    "In this lab you will work directly on this notebook.\n",
    "You will be required to:\n",
    "- develop parts of code\n",
    "- run some tests and analyse the results\n",
    "- submit a report (the notebook with your answers filled in)\n",
    "\n",
    "You can work in groups of two.\n",
    "\n",
    "### Work during the session\n",
    "- Rename the notebook adding your names\n",
    "- Fill in your name/s in the first cell of the notebook\n",
    "- Start reading the notebook, answer the questions, run the code, and write your own when needed\n",
    "- When you are done, export the notebook in `pdf` (File -> Export Notebook As -> PDF)\n",
    "- Create a compressed file including the notebook in `pdf` and in `ipynb` (this file), name it \"**ISAT_labX-Name1_Name2**\" (with X the n. of the lab)\n",
    "- Submit your notebook in Chamilo (see below)\n",
    "\n",
    "### Submission\n",
    "The submission is done by sending the compressed folder to `mauro.dalla-mura@gipsa-lab.grenoble-inp.fr`. One submission per group.\n",
    "\n",
    "The submission can take place in two steps.\n",
    "1. **[Mandatory]** Submit your work **at the end of the session**.\n",
    "2. **[Optional]** If you want to answer to additional questions (e.g., optional ones), you can submit a second version **within one week**. This second version will give up to 5 points wrt to the first submission."
   ]
  },
  {
   "cell_type": "markdown",
   "metadata": {},
   "source": [
    "# 1. Introduction\n",
    "\n",
    "Passive (optical) very high resolution (VHR) satellites are equipped with two sensors acquiring two images of complementary characteristics.\n",
    "- PAN: Panchromatic image (high spatial resolution, 1 band)\n",
    "- MS: Multispectral image (low spatial resolution, ~3-16 bands)\n",
    "\n",
    "This lab session is about **pansharpening**, i.e., the sharpening of a MS using the higher spatial resolution details in the PAN.\n",
    "This can be seen as a particular problem of data fusion since one would aim at combining in a single product the spatial details resolved by the PAN (but not present in the MS) and the several spectral bands of the MS image (against the single band of the PAN). With respect to the general problem of multisensor fusion, pansharpening could not require the challenging phase of spatial coregistration since typically the images are acquired simultaneously being the PAN and MS sensors both mounted on the same platform.\n",
    "\n",
    "In this lab session we will use *simulated data* obtained by degrading the resolution of real acquisitions.\n",
    "This allows to have both a PAN and MS but also a reference MS (the MS at the original resolution)."
   ]
  },
  {
   "cell_type": "markdown",
   "metadata": {},
   "source": [
    "## Notation\n",
    "\n",
    "- $\\mathbf{P}$: PAN image\n",
    "- $\\mathbf{M}$: MS image\n",
    "- $\\mathbf{M}^*$: High resolution MS image used as reference for evaluation (in real case scenarios **we don't have this image**)\n",
    "- $\\mathbf{S}$: Result of pansharpening. $\\mathbf{S}$ should be as close as possible to $\\mathbf{M}^*$\n",
    "\n",
    "**Note** The original image $\\mathbf{M}$ is 4 times smaller than the PAN. In this lab we will consider an image MS that has been already upsampled (e.g., with bicubic interpolation) in order to have the same size of the PAN image."
   ]
  },
  {
   "cell_type": "markdown",
   "metadata": {},
   "source": [
    "**Question** Write in few lines what is the physical limitation for having a single sensor of both high spectral and high spatial quality."
   ]
  },
  {
   "cell_type": "markdown",
   "metadata": {},
   "source": [
    "*Your answer here*"
   ]
  },
  {
   "cell_type": "markdown",
   "metadata": {},
   "source": [
    "# 1.1 Needed packages\n",
    "\n",
    "This cells contains all the packages and functions that are needed for executing all the cells of this notebook. Please feel free to add new `import` statements to customize the code and to make new additional experiments. "
   ]
  },
  {
   "cell_type": "code",
   "execution_count": null,
   "metadata": {},
   "outputs": [],
   "source": [
    "import scipy.io\n",
    "import numpy as np\n",
    "import matplotlib.pyplot as plt\n",
    "import matplotlib\n",
    "from sklearn.preprocessing import MinMaxScaler, StandardScaler\n",
    "\n",
    "from skimage.metrics import structural_similarity as ssim\n",
    "from skimage.metrics import mean_squared_error\n",
    "from skimage import img_as_float\n",
    "\n",
    "\n",
    "from skimage.color import rgb2hsv, hsv2rgb\n"
   ]
  },
  {
   "cell_type": "code",
   "execution_count": null,
   "metadata": {},
   "outputs": [],
   "source": [
    "# Helper functions\n",
    "def check_img_dimensions(x, y):\n",
    "    \"\"\"Check if two images have the same dimensions\"\"\"\n",
    "    assert x.shape==y.shape, \"Images have not the same dimension\"\n",
    "\n",
    "def norm_minmax(x, lower, upper):\n",
    "    \"\"\"Normalize an array to a given bound interval\"\"\"\n",
    "\n",
    "    x_max = np.max(x)\n",
    "    x_min = np.min(x)\n",
    "\n",
    "    m = (upper - lower) / (x_max - x_min)\n",
    "    x_norm = (m * (x - x_min)) + lower\n",
    "\n",
    "    return x_norm\n",
    "\n",
    "def norm_std(x, m, s):\n",
    "    \"\"\"Normalize an array in order to have a given mean and std\"\"\"\n",
    "    \n",
    "    x_norm = s * (x - x.mean(axis=(0,1))) / x.std(axis=(0,1)) + m\n",
    "\n",
    "    return x_norm\n",
    "\n",
    "def norm_minmax_img(x, y):\n",
    "    \"\"\"Normalize an array to a given bound interval given by image y\"\"\"\n",
    "    check_img_dimensions(x, y)\n",
    "\n",
    "    y_max = np.max(y)\n",
    "    y_min = np.min(y)\n",
    "\n",
    "    x_norm = norm_minmax(x, y_min, y_max)\n",
    "    return x_norm\n",
    "\n",
    "def norm_std_img(x, y):\n",
    "    \"\"\"Normalize an image x in order to have a given mean and std from image y\"\"\"\n",
    "    check_img_dimensions(x, y)\n",
    "\n",
    "    if x.ndim > 2:\n",
    "        x_norm = x\n",
    "        for i in range(x.shape[2]):\n",
    "            x_norm[:,:,i] = norm_std_img(x[:,:,i], y[:,:,i])\n",
    "        return x_norm\n",
    "    else:\n",
    "        y_mean = y.mean(axis=(0,1))\n",
    "        y_std = y.std(axis=(0,1))\n",
    "    \n",
    "        # print(y_mean, y_std)\n",
    "\n",
    "        x_norm = norm_std(x, y_mean, y_std)\n",
    "        return x_norm\n",
    "                 \n",
    "    \n",
    "def img_stats(I):\n",
    "    \"\"\"Print image statistics\"\"\"\n",
    "    if I.ndim > 2:\n",
    "        for i in range(I.shape[2]):\n",
    "            print('Band {:d}'.format(i))\n",
    "            img_stats(I[:,:,i])\n",
    "    else:\n",
    "        print('Mean: %.3f' %I.mean(axis=(0,1)))\n",
    "        print('Std: %.3f' %I.std(axis=(0,1)))\n",
    "        print('Min: {:.3f}, Max: {:.3f}'.format(I.min(axis=(0,1)), I.max(axis=(0,1))))\n",
    "\n",
    "def imshow_bands(I):\n",
    "    \"\"\"Display the bands of an image\"\"\"\n",
    "    \n",
    "    nbands = I.shape[2]\n",
    "    plt.figure(figsize=(20, 6))\n",
    "    for i in range(nbands):\n",
    "        plt.subplot(100 + nbands*10 + i+1)\n",
    "        plt.imshow(I[:,:,i])\n",
    "        plt.colorbar()\n",
    "        plt.title(\"Band %d\" %i)\n",
    "    plt.show()\n",
    "\n",
    "    \n",
    "def imshow_stretch(I, stretchval=0.1):\n",
    "    \"\"\"Show a grayscale or RGB image after performing a stretching of its dynamic\"\"\"\n",
    "    nbins = 1000\n",
    "    tol_low = stretchval\n",
    "    tol_high = 1-stretchval\n",
    "    Iadj = np.zeros(I.shape)\n",
    "    \n",
    "    n_bands = 1 if len(I.shape) < 3 else I.shape[2]\n",
    "    for i in range(n_bands):\n",
    "        tmp = I if n_bands == 1 else I[:,:,i]\n",
    "        tmp = tmp - np.min(tmp.ravel())\n",
    "        tmp = tmp / np.max(tmp.ravel())\n",
    "        N, _ = np.histogram(tmp.ravel(), nbins)\n",
    "        cdf = np.cumsum(N)/np.sum(N)  # cumulative distribution function\n",
    "        ilow = np.where(cdf > tol_low)[0][0]\n",
    "        ihigh = np.where(cdf >= tol_high)[0][0]\n",
    "        ilow = (ilow - 1)/(nbins-1)\n",
    "        ihigh = (ihigh - 1)/(nbins-1)\n",
    "        li = ilow\n",
    "        lo = 0\n",
    "        hi = ihigh\n",
    "        ho = 255\n",
    "        shape = tmp.shape\n",
    "        out = (tmp < li) * lo\n",
    "        out = out + np.logical_and(tmp >= li, tmp < hi) * (lo + (ho - lo) * ((tmp - li) / (hi - li)))\n",
    "        out = out + (tmp >= hi) * ho\n",
    "        if n_bands == 1:\n",
    "            Iadj = out\n",
    "        else:\n",
    "            Iadj[:,:,i] = out\n",
    "    plt.imshow(Iadj.astype('uint8'))\n"
   ]
  },
  {
   "cell_type": "markdown",
   "metadata": {},
   "source": [
    "# 1.2 Data loading and preparation\n",
    "\n",
    "Check the size of each image `X` (num rows, num cols, num bands) by typing `X.shape`.\n"
   ]
  },
  {
   "cell_type": "code",
   "execution_count": null,
   "metadata": {},
   "outputs": [],
   "source": [
    "# Load MATLAB .mat file\n",
    "from scipy.io import loadmat\n",
    "x = loadmat('./data/Strsbrg1.mat')  # -> You can change dataset here, there are others in the folder\n",
    "\n",
    "M = x['MS'] # Multispectral image \n",
    "HM = x['HRMS'] # Panchromatic image\n",
    "P = x['PAN'] # High resolution Multispectral image (Reference)\n",
    "\n",
    "del x\n",
    "\n",
    "sizeP = P.shape\n",
    "sizeHM = HM.shape\n",
    "sizeM = M.shape\n",
    "\n",
    "\n",
    "print('size M:  ', M.shape)\n",
    "print('size HM: ', HM.shape)\n",
    "print('size P:  ', P.shape)"
   ]
  },
  {
   "cell_type": "markdown",
   "metadata": {},
   "source": [
    "**Question** By knowing that the Ground Sampling Distance (GSD) of the PAN sensor is 0.8 m. What is the GSD of the original MS image?"
   ]
  },
  {
   "cell_type": "markdown",
   "metadata": {},
   "source": [
    "*Your answer here*"
   ]
  },
  {
   "cell_type": "markdown",
   "metadata": {},
   "source": [
    "## 1.3 Data visualization\n",
    "\n",
    "This part of the session is devoted to the visualization and inspection of the images we have.\n",
    "\n",
    "\n",
    "* Visualize the image data\n",
    "   * Look at one band of an image `X` with the function `imshow_stretch` (e.g., as in Python indexing starts from zero, if you want to see the 3rd band\n",
    "you should type: `imshow_stretch(X[:,:,2])`)\n",
    "  \n",
    "\n",
    "**Note**: this instruction should be followed by `plt.show()`."
   ]
  },
  {
   "cell_type": "code",
   "execution_count": null,
   "metadata": {},
   "outputs": [],
   "source": [
    "# PAN\n",
    "plt.figure\n",
    "imshow_stretch(P) \n",
    "plt.set_cmap('gray')  # warning: permanent! \n",
    "plt.show()\n",
    "# plt.set_cmap('viridis')  # restore the old colormap for future plots"
   ]
  },
  {
   "cell_type": "markdown",
   "metadata": {},
   "source": [
    "**Question** The MS contains four spectral bands three in the visible domain (centered on the red, green and blue wavelenghts) and one in the near infrared. Show each band separately and try to identify them. Which is the right order of the spectral bands for showing a **true color** image (an image that have \"real looking\" colors)? Below we have used a sequence (1,2,3) just as an example."
   ]
  },
  {
   "cell_type": "markdown",
   "metadata": {},
   "source": [
    "*Your answer here*"
   ]
  },
  {
   "cell_type": "code",
   "execution_count": null,
   "metadata": {},
   "outputs": [],
   "source": [
    "# example:\n",
    "bands = (1,2,3)\n",
    "\n",
    "# MS\n",
    "plt.figure()\n",
    "imshow_stretch(M[:,:,bands]) # -> this is clearly not a \"true color\" composition\n",
    "\n",
    "# High res MS -> This is a reference image, usually we don't have it!\n",
    "plt.figure()\n",
    "imshow_stretch(HM[:,:,bands])\n"
   ]
  },
  {
   "cell_type": "code",
   "execution_count": null,
   "metadata": {},
   "outputs": [],
   "source": [
    "# Define the band order here\n"
   ]
  },
  {
   "cell_type": "markdown",
   "metadata": {},
   "source": [
    "## 1.4 Validation\n",
    "As we have a reference image HM we can then compare the results obtained by pansharpening with respect to it.\n",
    "The goal is thus to have an image resulting from pansharpening which is as close as possible to HM.\n",
    "\n",
    "As quality indexes we will use:\n",
    "- Minimum Square Error (MSE). Best value 0\n",
    "- Structure Similarity Index (SSIM). Best value 1\n",
    "These two indexes are contained in the function `evaluate` defined below.\n",
    "\n",
    "Test the indexes by comparing the MS image (upsampled) **M** and the reference **HM**. This will be a baseline as there is no fusion with the PAN image in this case. Pansharpening should produce images of greater quality (lower MSE and higher SSIM) than this one. "
   ]
  },
  {
   "cell_type": "code",
   "execution_count": null,
   "metadata": {},
   "outputs": [],
   "source": [
    "def evaluate(S, HM):\n",
    "    \"\"\"Evaluate how close is the image S to the reference HM\"\"\"\n",
    "    mse_img = mean_squared_error(S, HM)\n",
    "    ssim_img = ssim(S, HM, data_range=HM.max() - HM.min(), multichannel=True)\n",
    "\n",
    "    print('MSE: %.3f' %mse_img)\n",
    "    print('SSIM: %.3f' %ssim_img)\n",
    "\n",
    "# Evaluate how close is the original image M with the reference HM\n",
    "evaluate(M, HM)\n"
   ]
  },
  {
   "cell_type": "markdown",
   "metadata": {},
   "source": [
    "# 2. Component Substitution\n",
    "This part of the lab will be devoted to the so-called Component Substitution family of pansharpening techniques.\n",
    "\n",
    "This family is based on the projection of the MS image into another space, on the substitution of the PAN with one or more components of the transformed image and then on the inverse transform in the original space.\n",
    "\n",
    "<img src=\"FlowchartCS.png\" alt=\"CS\" style=\"width: 500px;\"/>\n",
    "\n",
    "## 2.1 Introduction\n",
    "\n",
    "In more details, considering the MS in matrix format ($\\mathbf{M} = \\left[\\mathbf{M}_1, \\dots, \\mathbf{M}_N  \\right]^T$, with $\\mathbf{M}_i$ the i-th channel of the MS in a row vector format) and denoting by $\\mathbf{X}$ the MS transformed by a generic linear transformation $A$, the forward transformation can be written as:\n",
    "\\begin{equation}\\label{eq:CSforward}\n",
    " \\mathbf{X} =A\\mathbf{M},\n",
    "\\end{equation}\n",
    "\n",
    "The assumption is that the transformation $A$ separates the spatial structure from the spectral information in different components that are decoupled.  \n",
    "For example, we can consider the case in which the first component carries the spatial information and this can be considered as a low-pass version of the PAN image ($\\mathbf{I}$): $\\mathbf{X} = [\\mathbf{X_1}, \\mathbf{X}_2, \\dots \\mathbf{X}_{N}]^T$ with $\\mathbf{X_1} \\approx \\mathbf{I}$.\n",
    "According to this representation, the fusion of the MS with PAN takes place by substituting the components carrying spatial information (in this case, the first component) with the PAN: \n",
    "$$\\mathbf{Y} = [\\mathbf{P}, \\mathbf{X}_2, \\dots \\mathbf{X}_{N}]^T.$$\n",
    "\n",
    "Then, the inverse transformation is applied on $\\mathbf{Y}$ in order to obtain the pansharpened result:\n",
    "\\begin{equation}\\label{eq:CSinverse}\n",
    "\\mathbf{S} = A^{-1} \\mathbf{Y}.\n",
    "\\end{equation}"
   ]
  },
  {
   "cell_type": "markdown",
   "metadata": {},
   "source": [
    "## 2.2 An illustrative example on RGB images\n",
    "\n",
    "One of the first approaches that appeared considered as transformation $A$ the mapping from the RGB to the HSV color space.\n",
    "The HSV aims at decoupling the spatial information which is contained in the component Value (V) to the spectral (color) components Hue (H) and Saturation (S).\n",
    "\n",
    "Implement in the following the Component Substitution scheme presented before and evaluate the results.\n",
    "\n",
    "**Hint** You can use `rgb2hsv` and `hsv2rgb` for converting from a color space to the other.\n"
   ]
  },
  {
   "cell_type": "markdown",
   "metadata": {},
   "source": [
    "**Question** Show that the spatial and spectral components in the HSV color space are \"more decoupled\" with respect to in the original RGB space."
   ]
  },
  {
   "cell_type": "code",
   "execution_count": null,
   "metadata": {},
   "outputs": [],
   "source": [
    "# -> Your code here\n"
   ]
  },
  {
   "cell_type": "markdown",
   "metadata": {},
   "source": [
    "## 2.3 Component Substitution in a general formulation\n",
    "\n",
    "\n",
    "### General formulation\n",
    "A more general formulation of the CS fusion scheme is given by\n",
    "\\begin{equation}\n",
    "\\mathbf{S}_{k}=\\mathbf{M}_{k}+g_{k}\\left(\n",
    "\\mathbf{P}-\\mathbf{I}\\right)  , \\label{eq:genaralInjectionModel}%\n",
    "\\end{equation}\n",
    "in which the subscript $k$ indicates the $k$-th band, $\\mathbf{g}=[g_{1},\\dots,g_{k}%\n",
    ",\\dots,g_{N}]$ is the vector of the **injection gains**, while, $\\mathbf{I}$ is defined as follows:\n",
    "\\begin{equation}\n",
    "\\mathbf{I}= \\sum_{i=1}^N w_{i}\\mathbf{M}_{i}, \\label{eq:linearPLP}%\n",
    "\\end{equation}\n",
    "where the **weights** $\\mathbf{w}=[w_{1},\\dots,w_{i},\\dots,w_{N}]$ measure the spectral overlap among the spectral bands and the panchromatic\n",
    "image $\\mathbf{P}$.\n",
    "\n",
    "**[Optional] Question:**\n",
    "\n",
    "Prove that the process reported above can be equivalently obtained by the component substitution in Sec. 2.1.\n",
    "Is there an advantage in using this generic formuation with respect the scheme in Sec. 2.1?\n",
    "\n",
    "**Question** Give a brief comment on the role of the coefficients $\\mathbf{g}$ and $\\mathbf{w}$ in the fusion process."
   ]
  },
  {
   "cell_type": "markdown",
   "metadata": {},
   "source": [
    "*Your answer here*\n"
   ]
  },
  {
   "cell_type": "code",
   "execution_count": null,
   "metadata": {},
   "outputs": [],
   "source": [
    "# -> Your code here"
   ]
  },
  {
   "cell_type": "markdown",
   "metadata": {},
   "source": [
    "## 2.4 Generalized HSI scheme\n",
    "You will implement a scheme that is similar to the previous HSV transformation done on the RGB image but with the generalized scheme presented in Sec. 2.3\n",
    "\n",
    "In particular you will consider that $w_i = 1/N$ for all $i$ and $g_k = 1 $ for all $k$."
   ]
  },
  {
   "cell_type": "code",
   "execution_count": null,
   "metadata": {},
   "outputs": [],
   "source": [
    "# -> Your code here\n"
   ]
  },
  {
   "cell_type": "markdown",
   "metadata": {},
   "source": [
    "CS techniques can be affected if the range of the PAN and the MS images differ. This happens quite often as they are acquired by different sensors.\n",
    "Try to perform a normalization of the PAN image in order to force it to have the same dynamic of $\\mathbf{I}$. \n",
    "\n",
    "**Hint** Use the `norm_std_image` defined at the beginning of the file.\n",
    "\n",
    "**Question** Compare the case with and without normalization."
   ]
  },
  {
   "cell_type": "code",
   "execution_count": null,
   "metadata": {},
   "outputs": [],
   "source": [
    "# -> Your code here\n"
   ]
  },
  {
   "cell_type": "markdown",
   "metadata": {},
   "source": [
    "## 2.5 Multiplicative injection scheme\n",
    "An alternative way to sharpen the MS with the details fo the PAN is based on a multiplicative scheme for injecting the spatial details.\n",
    "The fused image is defined, for $k=1,\\dots,N$, as:\n",
    "\\begin{equation}\n",
    "\\mathbf{S}_{k}=\\mathbf{M}_{k}\\cdot\\frac{\\mathbf{P}%\n",
    "}{\\mathbf{I}}. \\label{eq:HPM}%\n",
    "\\end{equation}\n",
    "being the operators applied point-wise on the matrices.\n",
    "\n",
    "**Question** Implement this scheme and compare it with the previous additive injection model.\n",
    "\n",
    "**[Optional] Question** Prove that this can be equivalently expressed as \n",
    "  \\begin{equation}\n",
    "  \\mathbf{S}_{k}=\\mathbf{M}_{k}+\\frac{\\mathbf{M}_{k}}{\\mathbf{I}}\\cdot(\\mathbf{P}-\\mathbf{I}),\n",
    "  \\end{equation}\n",
    " \n",
    "  by setting, for $k=1,\\dots,N$,\n",
    "  \\begin{equation}\n",
    "  g_{k}=\\frac{\\mathbf{M}_{k}}{\\mathbf{I}}.\n",
    "  \\end{equation}\n",
    "  \n",
    "**Hint** Elementwise division between two arrays `A` and `B` can be performed by `np.divide(A, B)` (or `A/B`). Elementwise multiplication can be done by `np.multiply(A, B)` (or `A*B`)."
   ]
  },
  {
   "cell_type": "code",
   "execution_count": null,
   "metadata": {},
   "outputs": [],
   "source": [
    "# -> Your code here\n"
   ]
  },
  {
   "cell_type": "markdown",
   "metadata": {},
   "source": [
    "### MultiResolution Analysis (MRA)\n",
    "\n",
    "In the second class of pansharpening methods the contribution\n",
    "of the PAN image to the fused product is achieved by calculating the\n",
    "difference between $\\mathbf{P}$ and a low pass version $\\mathbf{P}_{L}$.\n",
    "Namely the HRMS image is defined as\n",
    "\\begin{equation}\n",
    "\\mathbf{S}_{k}=\\mathbf{M}_{k}+g_{k}\\left(\n",
    "\\mathbf{P}-\\mathbf{P}_{L}\\right),\\ \\forall k=1,\\dots,N \\label{eq:MRA}%\n",
    "\\end{equation}\n",
    "This paradigm has been denoted as *Amélioration de\n",
    "la Résolution Spatiale par Injection de Structures* (*ARSIS*)\n",
    "underlining that the purposes of these methods are the preservation of the\n",
    "whole content of the LRMS image and the addition of further information\n",
    "obtained from the PAN image, through spatial filtering.\n",
    "\n",
    "According to definition the different approaches belonging to\n",
    "this class are uniquely characterized by the algorithm employed for obtaining\n",
    "the image $\\mathbf{P}_{L}$ and by the combination coefficients $\\left\\{\n",
    "g_{k}\\right\\}_{k=1,\\ldots,N}$.\n",
    "\n",
    "In a very general setting, $\\mathbf{P}_{L}$ is achieved through an iterative\n",
    "decomposition scheme (called MRA) aiming at constructing a sequence of signals with successively\n",
    "reduced information (or \\textit{pyramid}), through the repeated application of\n",
    "the analysis operators. The type of decomposition constitutes a first\n",
    "distinguishing feature of the various approaches and can range from very simple\n",
    "methods based on a single level decomposition to more complex techniques relying upon a multilevel analysis.\n",
    "\n",
    "In addition, the mathematical expression of $\\mathbf{g}$ assumes different\n",
    "forms in the literature, among which two options are the most commonly reported.\n",
    "By setting all the coefficients equal to $1$ the \\textit{additive} injection scheme is achieved:%\n",
    "\\begin{equation}\n",
    "\\mathbf{S}_{k}=\\mathbf{M}_{k}+\\left(  \\mathbf{P}%\n",
    "-\\mathbf{P}_{L}\\right)  ,\\ \\forall k=1,\\dots,N. \\label{eq:HPFModel}%\n",
    "\\end{equation}\n",
    "The \\textit{High Pass Modulation} (\\textit{HPM}) method (also called \\textit{multiplicative} injection scheme) is the other\n",
    "well-known paradigm, defined through the expression\n",
    "\\begin{equation}\n",
    "\\mathbf{S}_{k}=\\mathbf{M}_{k}+\\frac{\\mathbf{M}_{k}}{\\mathbf{P}_{L}}\\left(  \\mathbf{P}-\\mathbf{P}_{L}\\right)\n",
    ",\\ \\forall k=1,\\dots,N, \\label{eq:HPMModel}%\n",
    "\\end{equation}\n",
    "in which the details are weighted by the ratio of the MS and the\n",
    "PAN low pass version $\\mathbf{P}_{L}$, with the aim of reproducing, in the\n",
    "fused image, the local intensity contrast of the PAN. \n",
    "\n",
    "<img src=\"FlowchartMRA.png\" alt=\"MRA\" style=\"width: 500px;\"/>\n",
    "\n",
    "\n",
    "The flowchart is slightly simpler than for CS. In fact, as one can notice, it lacks the block aimed at estimating the weight vector $\\mathbf{w}$, needed for the construction of the equivalent panchromatic image.\n",
    "Accordingly, the required blocks are devoted to: i) Upsample the MS image to reach the panchromatic resolution; ii) Perform the pyramidal decomposition yielding the low pass version $\\mathbf{P}_{L}$ of the PAN image; iii)\n",
    "Compute the band dependent injection gains $\\left\\{  g_{k}\\right\\}\n",
    "_{k=1,\\ldots,N}$; iv) Inject the extracted details.\n"
   ]
  },
  {
   "cell_type": "markdown",
   "metadata": {},
   "source": [
    "### Low pass filtering\n",
    "\n",
    "The most direct implementation of the ARSIS concept consists in applying a\n",
    "single Linear Time-Invariant (LTI) Low Pass Filter (LPF) $h_{LP}$ to the PAN image $\\mathbf{P}$ for obtaining $\\mathbf{P}_{L}$, thus resulting in the following formula\n",
    "\\begin{equation}\n",
    "\\mathbf{S}_{k}=\\mathbf{M}_{k}+g_k\\left(  \\mathbf{P}%\n",
    "-\\mathbf{P}\\ast h_{LP}\\right)  ,\\ \\forall k=1,\\dots,N, \\label{eq:HPF2}%\n",
    "\\end{equation}\n",
    "in which $\\ast$ denotes the convolution operator.\n",
    "\n",
    "This approach can be performed by employing several different\n",
    "low pass filters $h_{LP}$, among which the most diffused uses Box, Gaussian and Laplacian masks. Furthermore, the simple additive injection scheme  or more elaborated alternatives can be exploited for injecting the spatial details. \n",
    "\n",
    "Among the possible couples of filters and coefficients, we chose the simplest scheme achievable by using the Box mask (i.e., mask with uniform weights, implementing an average filter) and additive injection, which leads to the pansharpening algorithm known as *High Pass Filtering* (*HPF*) method. \n",
    "\n",
    "The corresponding methodology employing the HPM injection scheme has been also proposed.\n",
    "\n",
    "**Question**\n",
    "- Implement and test this technique using a conventional average filter.\n",
    "- Test both the additive and multiplicative schemes.\n",
    "\n",
    "**[Optional] Question**\n",
    "- Test different filters (Gaussian, laplacian,...)\n",
    "\n",
    "**Question** The choice of the filter size is critical. Make a comparison when changing the size of the filter. Perform an analysis of the filters in the frequency domain and discuss the observed spectra with respect to the corresponding obtained results.\n",
    "**Hint** If a filter is isotropic, you may consider only a 1D profile.\n"
   ]
  },
  {
   "cell_type": "code",
   "execution_count": null,
   "metadata": {},
   "outputs": [],
   "source": [
    "# -> Your code here\n"
   ]
  }
 ],
 "metadata": {
  "kernelspec": {
   "display_name": "Python 3",
   "language": "python",
   "name": "python3"
  },
  "language_info": {
   "codemirror_mode": {
    "name": "ipython",
    "version": 3
   },
   "file_extension": ".py",
   "mimetype": "text/x-python",
   "name": "python",
   "nbconvert_exporter": "python",
   "pygments_lexer": "ipython3",
   "version": "3.8.5"
  }
 },
 "nbformat": 4,
 "nbformat_minor": 4
}
